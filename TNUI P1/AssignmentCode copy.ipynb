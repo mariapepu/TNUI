{
 "cells": [
  {
   "cell_type": "markdown",
   "id": "portuguese-edwards",
   "metadata": {},
   "source": [
    "**NOMS I COGNOMS:**\n",
    "\n",
    "**GRUP DE LABORATORI:**"
   ]
  },
  {
   "cell_type": "markdown",
   "id": "diverse-closure",
   "metadata": {},
   "source": [
    "# Anàlisi exploratòria de dades i preprocessament \n",
    "\n",
    "L'**anàlisi exploratòria de dades** és el tractament estadístic al qual se sotmeten les mostres recollides durant un procés de recerca en qualsevol camp científic. \n",
    "Per a major rapidesa i precisió, tot el procés sol realitzar-se per mitjans informàtics, amb aplicacions específiques per al tractament estadístic.\n",
    "\n",
    "### Aplicació a la Mineria de Dades\n",
    "\n",
    "A la **mineria de dades**, si bé no és obligatori, és una bona pràctica analitzar les dades amb què treballarem per tal d'observar-ne les característiques principals per tal de tenir una idea de l'estructura del conjunt de dades, identificar la variable objectiu i possibles tècniques de modelatge.\n",
    "\n",
    "**Procés bàsic**\n",
    "- *Transformar les dades*: Ens serveix per saber què fer front a valors nuls, faltants o dades atípiques. A més destablir si hi ha necessitat de reduir la dimensionalitat de dades.\n",
    "- *Visualitzar*: Utilitzar alguna eina per fer una representació gràfica de les dades, per exemple, R, Jupyter notebook, Google Colab, etc.\n",
    "- *Analitzar i interpretar*: Analitzar i interpretar les dades a través de diferents visualitzacions.\n",
    "- *Documentar*: Documentar totes les gràfiques i estadístiques generades.\n",
    "\n",
    "Aquest procés ens és útil també en revisar la descripció de les dades per comprendre què significa cada característica.\n",
    "\n",
    "Hi ha diverses activitats en fer una anàlisi exploratòria de dades però quant a la mineria de dades els punts clau que s'han de realitzar són:\n",
    "\n",
    "- Descripció de l'estructura de les dades.\n",
    "- Identificació de dades mancants.# ¿Com ha afectat la covid a l'ús dels taxis a Nova York? \n",
    "- Detecció de valors atípics.\n",
    "- Identificació de relacions entre parells variables.\n",
    "\n",
    "Si realitzem correctament els passos ens facilitarem la manera d'abordar aquestes dades sense deixar de banda l'objectiu o el propòsit per al qual les necessitem."
   ]
  },
  {
   "cell_type": "code",
   "execution_count": null,
   "id": "renewable-shanghai",
   "metadata": {},
   "outputs": [],
   "source": []
  },
  {
   "cell_type": "markdown",
   "id": "cellular-animation",
   "metadata": {},
   "source": [
    "L'**objectiu d'aquesta pràctica** és aprendre com fer una explicació de dades. En aquest cas utilitzarem les dades dels **taxis grocs de la ciutat de Nova York**.\n",
    "\n",
    "En finalitzar el notebook, haureu de ser capaços de respondre la pregunta següent:\n",
    "\n",
    "\n",
    "## ¿Com ha afectat la covid a l'ús dels taxis a Nova York? \n",
    "\n",
    "Algunes de les preguntes que ens farem al llarg del notebook són:\n",
    "- Com ha canviat la covid l'ús dels taxis a NYC?\n",
    "- Quina distribució d'encàrrecs segueixen els taxis i quina distància / durada tenen?\n",
    "- Quines són les zones on m'és / menys taxis s'agafen? I a on més va la gent?\n",
    "- Quins horaris són els més usuals?\n",
    "- Quins dies de la setmana i del mes s'utilitzen més? Possibles motius?"
   ]
  },
  {
   "cell_type": "markdown",
   "id": "innocent-receptor",
   "metadata": {},
   "source": [
    "**Instal·lació i importació de les llibreries necessàries**"
   ]
  },
  {
   "cell_type": "code",
   "execution_count": 2,
   "id": "sharing-bridges",
   "metadata": {
    "tags": []
   },
   "outputs": [
    {
     "name": "stdout",
     "output_type": "stream",
     "text": [
      "Requirement already satisfied: pyarrow in c:\\users\\maria\\anaconda3.1\\lib\\site-packages (9.0.0)\n",
      "Requirement already satisfied: numpy>=1.16.6 in c:\\users\\maria\\anaconda3.1\\lib\\site-packages (from pyarrow) (1.20.1)\n",
      "Requirement already satisfied: pyshp in c:\\users\\maria\\anaconda3.1\\lib\\site-packages (2.3.1)\n",
      "Requirement already satisfied: shapely in c:\\users\\maria\\anaconda3.1\\lib\\site-packages (1.8.4)\n",
      "Requirement already satisfied: descartes in c:\\users\\maria\\anaconda3.1\\lib\\site-packages (1.1.0)\n",
      "Requirement already satisfied: matplotlib in c:\\users\\maria\\anaconda3.1\\lib\\site-packages (from descartes) (3.3.4)\n",
      "Requirement already satisfied: pillow>=6.2.0 in c:\\users\\maria\\anaconda3.1\\lib\\site-packages (from matplotlib->descartes) (8.2.0)\n",
      "Requirement already satisfied: pyparsing!=2.0.4,!=2.1.2,!=2.1.6,>=2.0.3 in c:\\users\\maria\\anaconda3.1\\lib\\site-packages (from matplotlib->descartes) (2.4.7)\n",
      "Requirement already satisfied: kiwisolver>=1.0.1 in c:\\users\\maria\\anaconda3.1\\lib\\site-packages (from matplotlib->descartes) (1.3.1)\n",
      "Requirement already satisfied: python-dateutil>=2.1 in c:\\users\\maria\\anaconda3.1\\lib\\site-packages (from matplotlib->descartes) (2.8.1)\n",
      "Requirement already satisfied: cycler>=0.10 in c:\\users\\maria\\anaconda3.1\\lib\\site-packages (from matplotlib->descartes) (0.10.0)\n",
      "Requirement already satisfied: numpy>=1.15 in c:\\users\\maria\\anaconda3.1\\lib\\site-packages (from matplotlib->descartes) (1.20.1)\n",
      "Requirement already satisfied: six in c:\\users\\maria\\anaconda3.1\\lib\\site-packages (from cycler>=0.10->matplotlib->descartes) (1.15.0)\n"
     ]
    }
   ],
   "source": [
    "! pip install pyarrow\n",
    "! pip install pyshp\n",
    "! pip install shapely\n",
    "! pip install descartes"
   ]
  },
  {
   "cell_type": "code",
   "execution_count": 3,
   "id": "anonymous-freeware",
   "metadata": {},
   "outputs": [],
   "source": [
    "# Importació de les llibreries\n",
    "import pandas as pd\n",
    "import numpy as np\n",
    "import urllib.request\n",
    "import zipfile\n",
    "import os\n",
    "from tqdm.notebook import tqdm\n",
    "import pyarrow.parquet as pq"
   ]
  },
  {
   "cell_type": "code",
   "execution_count": 4,
   "id": "changing-simpson",
   "metadata": {},
   "outputs": [],
   "source": [
    "import shapefile\n",
    "from shapely.geometry import Polygon\n",
    "from descartes.patch import PolygonPatch\n",
    "import seaborn as sns\n",
    "import matplotlib as mpl\n",
    "import matplotlib.pyplot as plt\n",
    "%matplotlib inline"
   ]
  },
  {
   "cell_type": "code",
   "execution_count": 5,
   "id": "recreational-legislation",
   "metadata": {},
   "outputs": [],
   "source": [
    "# Variables globals\n",
    "YEARS = [2019, 2020, 2021]"
   ]
  },
  {
   "cell_type": "code",
   "execution_count": null,
   "id": "fitting-dodge",
   "metadata": {},
   "outputs": [],
   "source": []
  },
  {
   "cell_type": "markdown",
   "id": "colonial-professor",
   "metadata": {},
   "source": [
    "Primer de tot cal descarregar les dades:\n",
    "\n",
    "https://www1.nyc.gov/site/tlc/about/tlc-trip-record-data.page"
   ]
  },
  {
   "cell_type": "code",
   "execution_count": 6,
   "id": "seventh-radius",
   "metadata": {
    "tags": []
   },
   "outputs": [
    {
     "data": {
      "application/vnd.jupyter.widget-view+json": {
       "model_id": "ff2af511ada746d29929ad0479b4e34b",
       "version_major": 2,
       "version_minor": 0
      },
      "text/plain": [
       "  0%|          | 0/3 [00:00<?, ?it/s]"
      ]
     },
     "metadata": {},
     "output_type": "display_data"
    }
   ],
   "source": [
    "# Download the Trip Record Data\n",
    "for year in tqdm(YEARS):\n",
    "    if not os.path.exists(f'data/{year}'):\n",
    "        os.makedirs(f'data/{year}', exist_ok=True)\n",
    "        for month in tqdm(range(1, 13)): \n",
    "            urllib.request.urlretrieve(f'https://d37ci6vzurychx.cloudfront.net/trip-data/yellow_tripdata_{year}-{month:02d}.parquet', f'data/{year}/{month:02d}.parquet')"
   ]
  },
  {
   "cell_type": "markdown",
   "id": "warming-shore",
   "metadata": {},
   "source": [
    "## 01. Neteja de dades\n",
    "\n",
    "Per tal de tenir unes dades netes i útils, cal eliminar totes aquelles files que continguin informació corrupta:\n",
    "- La recollida és després que la finalització del trajecte.\n",
    "- Les dades s'importen per mes i any. Les dates són correctes?\n",
    "- Viatges amb 0 passatges?\n",
    "- Viatges molts llargs o molt curts?\n",
    "- Pagaments negatius."
   ]
  },
  {
   "cell_type": "markdown",
   "id": "decent-aaron",
   "metadata": {},
   "source": [
    "**Data Dictionary**\n",
    "\n",
    "De totes les columnes que tenen les dades, només calen les següents:\n",
    "\n",
    "- *tpep_pickup_datetime*: The date and time when the meter was engaged.\n",
    "- *tpep_dropoff_datetime*: The date and time when the meter was disengaged. \n",
    "- *Passenger_count*: The number of passengers in the vehicle. (This is a driver-entered value)\n",
    "- *Trip_distance*: The elapsed trip distance in miles reported by the taximeter.\n",
    "- *PULocationID*: TLC Taxi Zone in which the taximeter was engaged\n",
    "- *DOLocationID*: TLC Taxi Zone in which the taximeter was disengaged\n",
    "- *Payment_type*: A numeric code signifying how the passenger paid for the trip. \n",
    "    - 1= Credit card\n",
    "    - 2= Cash\n",
    "    - 3= No charge\n",
    "    - 4= Dispute\n",
    "    - 5= Unknown\n",
    "    - 6= Voided trip\n",
    "- *Fare_amount*: The time-and-distance fare calculated by the meter.\n",
    "- *Total_amount*: The total amount charged to passengers. Does not include cash tips."
   ]
  },
  {
   "cell_type": "markdown",
   "id": "continent-ecology",
   "metadata": {},
   "source": [
    "**Observacions:**\n",
    "\n",
    "- Per agilitzar els càlculs i reduir el temps de còmput, feu un sampleig uniforme de les dades.\n",
    "- Datatime columns són to_datetime series (ajuda per buscar les funcions)"
   ]
  },
  {
   "cell_type": "code",
   "execution_count": 7,
   "id": "boxed-exemption",
   "metadata": {},
   "outputs": [
    {
     "data": {
      "text/html": [
       "<div>\n",
       "<style scoped>\n",
       "    .dataframe tbody tr th:only-of-type {\n",
       "        vertical-align: middle;\n",
       "    }\n",
       "\n",
       "    .dataframe tbody tr th {\n",
       "        vertical-align: top;\n",
       "    }\n",
       "\n",
       "    .dataframe thead th {\n",
       "        text-align: right;\n",
       "    }\n",
       "</style>\n",
       "<table border=\"1\" class=\"dataframe\">\n",
       "  <thead>\n",
       "    <tr style=\"text-align: right;\">\n",
       "      <th></th>\n",
       "      <th>VendorID</th>\n",
       "      <th>tpep_pickup_datetime</th>\n",
       "      <th>tpep_dropoff_datetime</th>\n",
       "      <th>passenger_count</th>\n",
       "      <th>trip_distance</th>\n",
       "      <th>RatecodeID</th>\n",
       "      <th>store_and_fwd_flag</th>\n",
       "      <th>PULocationID</th>\n",
       "      <th>DOLocationID</th>\n",
       "      <th>payment_type</th>\n",
       "      <th>fare_amount</th>\n",
       "      <th>extra</th>\n",
       "      <th>mta_tax</th>\n",
       "      <th>tip_amount</th>\n",
       "      <th>tolls_amount</th>\n",
       "      <th>improvement_surcharge</th>\n",
       "      <th>total_amount</th>\n",
       "      <th>congestion_surcharge</th>\n",
       "      <th>airport_fee</th>\n",
       "    </tr>\n",
       "  </thead>\n",
       "  <tbody>\n",
       "    <tr>\n",
       "      <th>0</th>\n",
       "      <td>1</td>\n",
       "      <td>2020-03-01 00:31:13</td>\n",
       "      <td>2020-03-01 01:01:42</td>\n",
       "      <td>1.0</td>\n",
       "      <td>4.70</td>\n",
       "      <td>1.0</td>\n",
       "      <td>N</td>\n",
       "      <td>88</td>\n",
       "      <td>255</td>\n",
       "      <td>1</td>\n",
       "      <td>22.0</td>\n",
       "      <td>3.0</td>\n",
       "      <td>0.5</td>\n",
       "      <td>2.00</td>\n",
       "      <td>0.0</td>\n",
       "      <td>0.3</td>\n",
       "      <td>27.80</td>\n",
       "      <td>2.5</td>\n",
       "      <td>None</td>\n",
       "    </tr>\n",
       "    <tr>\n",
       "      <th>1</th>\n",
       "      <td>2</td>\n",
       "      <td>2020-03-01 00:08:22</td>\n",
       "      <td>2020-03-01 00:08:49</td>\n",
       "      <td>1.0</td>\n",
       "      <td>0.00</td>\n",
       "      <td>1.0</td>\n",
       "      <td>N</td>\n",
       "      <td>193</td>\n",
       "      <td>193</td>\n",
       "      <td>2</td>\n",
       "      <td>2.5</td>\n",
       "      <td>0.5</td>\n",
       "      <td>0.5</td>\n",
       "      <td>0.00</td>\n",
       "      <td>0.0</td>\n",
       "      <td>0.3</td>\n",
       "      <td>3.80</td>\n",
       "      <td>0.0</td>\n",
       "      <td>None</td>\n",
       "    </tr>\n",
       "    <tr>\n",
       "      <th>2</th>\n",
       "      <td>1</td>\n",
       "      <td>2020-03-01 00:52:18</td>\n",
       "      <td>2020-03-01 00:59:16</td>\n",
       "      <td>1.0</td>\n",
       "      <td>1.10</td>\n",
       "      <td>1.0</td>\n",
       "      <td>N</td>\n",
       "      <td>246</td>\n",
       "      <td>90</td>\n",
       "      <td>1</td>\n",
       "      <td>6.0</td>\n",
       "      <td>3.0</td>\n",
       "      <td>0.5</td>\n",
       "      <td>1.95</td>\n",
       "      <td>0.0</td>\n",
       "      <td>0.3</td>\n",
       "      <td>11.75</td>\n",
       "      <td>2.5</td>\n",
       "      <td>None</td>\n",
       "    </tr>\n",
       "    <tr>\n",
       "      <th>3</th>\n",
       "      <td>2</td>\n",
       "      <td>2020-03-01 00:47:53</td>\n",
       "      <td>2020-03-01 00:50:57</td>\n",
       "      <td>2.0</td>\n",
       "      <td>0.87</td>\n",
       "      <td>1.0</td>\n",
       "      <td>N</td>\n",
       "      <td>151</td>\n",
       "      <td>238</td>\n",
       "      <td>1</td>\n",
       "      <td>5.0</td>\n",
       "      <td>0.5</td>\n",
       "      <td>0.5</td>\n",
       "      <td>1.76</td>\n",
       "      <td>0.0</td>\n",
       "      <td>0.3</td>\n",
       "      <td>10.56</td>\n",
       "      <td>2.5</td>\n",
       "      <td>None</td>\n",
       "    </tr>\n",
       "    <tr>\n",
       "      <th>4</th>\n",
       "      <td>1</td>\n",
       "      <td>2020-03-01 00:43:19</td>\n",
       "      <td>2020-03-01 00:58:27</td>\n",
       "      <td>0.0</td>\n",
       "      <td>4.40</td>\n",
       "      <td>1.0</td>\n",
       "      <td>N</td>\n",
       "      <td>79</td>\n",
       "      <td>261</td>\n",
       "      <td>1</td>\n",
       "      <td>16.5</td>\n",
       "      <td>3.0</td>\n",
       "      <td>0.5</td>\n",
       "      <td>4.05</td>\n",
       "      <td>0.0</td>\n",
       "      <td>0.3</td>\n",
       "      <td>24.35</td>\n",
       "      <td>2.5</td>\n",
       "      <td>None</td>\n",
       "    </tr>\n",
       "  </tbody>\n",
       "</table>\n",
       "</div>"
      ],
      "text/plain": [
       "   VendorID tpep_pickup_datetime tpep_dropoff_datetime  passenger_count  \\\n",
       "0         1  2020-03-01 00:31:13   2020-03-01 01:01:42              1.0   \n",
       "1         2  2020-03-01 00:08:22   2020-03-01 00:08:49              1.0   \n",
       "2         1  2020-03-01 00:52:18   2020-03-01 00:59:16              1.0   \n",
       "3         2  2020-03-01 00:47:53   2020-03-01 00:50:57              2.0   \n",
       "4         1  2020-03-01 00:43:19   2020-03-01 00:58:27              0.0   \n",
       "\n",
       "   trip_distance  RatecodeID store_and_fwd_flag  PULocationID  DOLocationID  \\\n",
       "0           4.70         1.0                  N            88           255   \n",
       "1           0.00         1.0                  N           193           193   \n",
       "2           1.10         1.0                  N           246            90   \n",
       "3           0.87         1.0                  N           151           238   \n",
       "4           4.40         1.0                  N            79           261   \n",
       "\n",
       "   payment_type  fare_amount  extra  mta_tax  tip_amount  tolls_amount  \\\n",
       "0             1         22.0    3.0      0.5        2.00           0.0   \n",
       "1             2          2.5    0.5      0.5        0.00           0.0   \n",
       "2             1          6.0    3.0      0.5        1.95           0.0   \n",
       "3             1          5.0    0.5      0.5        1.76           0.0   \n",
       "4             1         16.5    3.0      0.5        4.05           0.0   \n",
       "\n",
       "   improvement_surcharge  total_amount  congestion_surcharge airport_fee  \n",
       "0                    0.3         27.80                   2.5        None  \n",
       "1                    0.3          3.80                   0.0        None  \n",
       "2                    0.3         11.75                   2.5        None  \n",
       "3                    0.3         10.56                   2.5        None  \n",
       "4                    0.3         24.35                   2.5        None  "
      ]
     },
     "execution_count": 7,
     "metadata": {},
     "output_type": "execute_result"
    }
   ],
   "source": [
    "def load_table(year, month):\n",
    "    \"\"\"\n",
    "    Funció que llegeix les dades descarregades i les converteix a un DataFrame\n",
    "    \"\"\"\n",
    "    return pq.read_table(f'data/{year}/{str(month).zfill(2)}.parquet').to_pandas()\n",
    "\n",
    "\n",
    "data = load_table(2020,3)\n",
    "data.head(5)  \n"
   ]
  },
  {
   "cell_type": "code",
   "execution_count": 8,
   "id": "hired-paint",
   "metadata": {
    "tags": []
   },
   "outputs": [
    {
     "data": {
      "text/html": [
       "<div>\n",
       "<style scoped>\n",
       "    .dataframe tbody tr th:only-of-type {\n",
       "        vertical-align: middle;\n",
       "    }\n",
       "\n",
       "    .dataframe tbody tr th {\n",
       "        vertical-align: top;\n",
       "    }\n",
       "\n",
       "    .dataframe thead th {\n",
       "        text-align: right;\n",
       "    }\n",
       "</style>\n",
       "<table border=\"1\" class=\"dataframe\">\n",
       "  <thead>\n",
       "    <tr style=\"text-align: right;\">\n",
       "      <th></th>\n",
       "      <th>tpep_pickup_datetime</th>\n",
       "      <th>tpep_dropoff_datetime</th>\n",
       "      <th>passenger_count</th>\n",
       "      <th>trip_distance</th>\n",
       "      <th>PULocationID</th>\n",
       "      <th>DOLocationID</th>\n",
       "      <th>payment_type</th>\n",
       "      <th>fare_amount</th>\n",
       "      <th>total_amount</th>\n",
       "    </tr>\n",
       "  </thead>\n",
       "  <tbody>\n",
       "    <tr>\n",
       "      <th>0</th>\n",
       "      <td>2020-03-01 00:31:13</td>\n",
       "      <td>2020-03-01 01:01:42</td>\n",
       "      <td>1.0</td>\n",
       "      <td>4.70</td>\n",
       "      <td>88</td>\n",
       "      <td>255</td>\n",
       "      <td>1</td>\n",
       "      <td>22.0</td>\n",
       "      <td>27.80</td>\n",
       "    </tr>\n",
       "    <tr>\n",
       "      <th>1</th>\n",
       "      <td>2020-03-01 00:52:18</td>\n",
       "      <td>2020-03-01 00:59:16</td>\n",
       "      <td>1.0</td>\n",
       "      <td>1.10</td>\n",
       "      <td>246</td>\n",
       "      <td>90</td>\n",
       "      <td>1</td>\n",
       "      <td>6.0</td>\n",
       "      <td>11.75</td>\n",
       "    </tr>\n",
       "    <tr>\n",
       "      <th>2</th>\n",
       "      <td>2020-03-01 00:47:53</td>\n",
       "      <td>2020-03-01 00:50:57</td>\n",
       "      <td>2.0</td>\n",
       "      <td>0.87</td>\n",
       "      <td>151</td>\n",
       "      <td>238</td>\n",
       "      <td>1</td>\n",
       "      <td>5.0</td>\n",
       "      <td>10.56</td>\n",
       "    </tr>\n",
       "    <tr>\n",
       "      <th>3</th>\n",
       "      <td>2020-03-01 00:04:43</td>\n",
       "      <td>2020-03-01 00:23:17</td>\n",
       "      <td>1.0</td>\n",
       "      <td>3.50</td>\n",
       "      <td>113</td>\n",
       "      <td>142</td>\n",
       "      <td>1</td>\n",
       "      <td>15.0</td>\n",
       "      <td>22.55</td>\n",
       "    </tr>\n",
       "    <tr>\n",
       "      <th>4</th>\n",
       "      <td>2020-03-01 00:43:21</td>\n",
       "      <td>2020-03-01 01:14:36</td>\n",
       "      <td>1.0</td>\n",
       "      <td>14.10</td>\n",
       "      <td>237</td>\n",
       "      <td>14</td>\n",
       "      <td>1</td>\n",
       "      <td>40.5</td>\n",
       "      <td>53.15</td>\n",
       "    </tr>\n",
       "    <tr>\n",
       "      <th>...</th>\n",
       "      <td>...</td>\n",
       "      <td>...</td>\n",
       "      <td>...</td>\n",
       "      <td>...</td>\n",
       "      <td>...</td>\n",
       "      <td>...</td>\n",
       "      <td>...</td>\n",
       "      <td>...</td>\n",
       "      <td>...</td>\n",
       "    </tr>\n",
       "    <tr>\n",
       "      <th>885</th>\n",
       "      <td>2020-03-01 00:05:07</td>\n",
       "      <td>2020-03-01 00:49:52</td>\n",
       "      <td>3.0</td>\n",
       "      <td>10.63</td>\n",
       "      <td>164</td>\n",
       "      <td>76</td>\n",
       "      <td>1</td>\n",
       "      <td>36.5</td>\n",
       "      <td>50.30</td>\n",
       "    </tr>\n",
       "    <tr>\n",
       "      <th>886</th>\n",
       "      <td>2020-03-01 00:12:43</td>\n",
       "      <td>2020-03-01 00:30:10</td>\n",
       "      <td>1.0</td>\n",
       "      <td>4.10</td>\n",
       "      <td>249</td>\n",
       "      <td>25</td>\n",
       "      <td>1</td>\n",
       "      <td>15.0</td>\n",
       "      <td>23.50</td>\n",
       "    </tr>\n",
       "    <tr>\n",
       "      <th>887</th>\n",
       "      <td>2020-03-01 00:16:44</td>\n",
       "      <td>2020-03-01 00:28:01</td>\n",
       "      <td>1.0</td>\n",
       "      <td>2.79</td>\n",
       "      <td>231</td>\n",
       "      <td>33</td>\n",
       "      <td>1</td>\n",
       "      <td>11.0</td>\n",
       "      <td>17.76</td>\n",
       "    </tr>\n",
       "    <tr>\n",
       "      <th>888</th>\n",
       "      <td>2020-03-01 00:04:16</td>\n",
       "      <td>2020-03-01 00:16:18</td>\n",
       "      <td>1.0</td>\n",
       "      <td>2.16</td>\n",
       "      <td>229</td>\n",
       "      <td>224</td>\n",
       "      <td>1</td>\n",
       "      <td>10.0</td>\n",
       "      <td>16.56</td>\n",
       "    </tr>\n",
       "    <tr>\n",
       "      <th>889</th>\n",
       "      <td>2020-03-01 00:17:27</td>\n",
       "      <td>2020-03-01 00:25:25</td>\n",
       "      <td>1.0</td>\n",
       "      <td>1.13</td>\n",
       "      <td>224</td>\n",
       "      <td>234</td>\n",
       "      <td>1</td>\n",
       "      <td>7.0</td>\n",
       "      <td>11.80</td>\n",
       "    </tr>\n",
       "  </tbody>\n",
       "</table>\n",
       "<p>890 rows × 9 columns</p>\n",
       "</div>"
      ],
      "text/plain": [
       "    tpep_pickup_datetime tpep_dropoff_datetime  passenger_count  \\\n",
       "0    2020-03-01 00:31:13   2020-03-01 01:01:42              1.0   \n",
       "1    2020-03-01 00:52:18   2020-03-01 00:59:16              1.0   \n",
       "2    2020-03-01 00:47:53   2020-03-01 00:50:57              2.0   \n",
       "3    2020-03-01 00:04:43   2020-03-01 00:23:17              1.0   \n",
       "4    2020-03-01 00:43:21   2020-03-01 01:14:36              1.0   \n",
       "..                   ...                   ...              ...   \n",
       "885  2020-03-01 00:05:07   2020-03-01 00:49:52              3.0   \n",
       "886  2020-03-01 00:12:43   2020-03-01 00:30:10              1.0   \n",
       "887  2020-03-01 00:16:44   2020-03-01 00:28:01              1.0   \n",
       "888  2020-03-01 00:04:16   2020-03-01 00:16:18              1.0   \n",
       "889  2020-03-01 00:17:27   2020-03-01 00:25:25              1.0   \n",
       "\n",
       "     trip_distance  PULocationID  DOLocationID  payment_type  fare_amount  \\\n",
       "0             4.70            88           255             1         22.0   \n",
       "1             1.10           246            90             1          6.0   \n",
       "2             0.87           151           238             1          5.0   \n",
       "3             3.50           113           142             1         15.0   \n",
       "4            14.10           237            14             1         40.5   \n",
       "..             ...           ...           ...           ...          ...   \n",
       "885          10.63           164            76             1         36.5   \n",
       "886           4.10           249            25             1         15.0   \n",
       "887           2.79           231            33             1         11.0   \n",
       "888           2.16           229           224             1         10.0   \n",
       "889           1.13           224           234             1          7.0   \n",
       "\n",
       "     total_amount  \n",
       "0           27.80  \n",
       "1           11.75  \n",
       "2           10.56  \n",
       "3           22.55  \n",
       "4           53.15  \n",
       "..            ...  \n",
       "885         50.30  \n",
       "886         23.50  \n",
       "887         17.76  \n",
       "888         16.56  \n",
       "889         11.80  \n",
       "\n",
       "[890 rows x 9 columns]"
      ]
     },
     "execution_count": 8,
     "metadata": {},
     "output_type": "execute_result"
    }
   ],
   "source": [
    "\n",
    "def create_subset(data, sampling):\n",
    "    #function to adjust subset\n",
    "    required_data = ['tpep_pickup_datetime', 'tpep_dropoff_datetime', 'passenger_count', 'trip_distance', 'PULocationID', 'DOLocationID', 'payment_type', 'fare_amount', 'total_amount']\n",
    "    data = data.iloc[0:sampling]\n",
    "    subset_data = data[required_data]\n",
    "    return subset_data\n",
    "    \n",
    "def clean_data(data, year, month, sampling = 1000):\n",
    "    \"\"\"\n",
    "    Funció que neteja les dades per un mes donat.\n",
    "    \"\"\"\n",
    "    #creating the subset we need from the original dataframe \n",
    "    subset_data = create_subset(data, sampling)\n",
    "\n",
    "    #we transform type of date columns to datetime dtype\n",
    "    subset_data['tpep_pickup_datetime'] = pd.to_datetime(subset_data['tpep_pickup_datetime'])\n",
    "    subset_data['tpep_dropoff_datetime'] = pd.to_datetime(subset_data['tpep_dropoff_datetime'])\n",
    "\n",
    "    #now we have the data we need. let's filter\n",
    "    aux_data = subset_data[(subset_data['tpep_pickup_datetime'] < subset_data['tpep_dropoff_datetime']) # La recollida és després que la finalització del trajecte.\n",
    "    &((subset_data['tpep_dropoff_datetime'] - subset_data['tpep_pickup_datetime']).dt.total_seconds() > 180) # considerem molt curt com a 3 minuts o menys\n",
    "    &((subset_data['tpep_dropoff_datetime'] - subset_data['tpep_pickup_datetime']).dt.total_seconds() <= (6*3600)) # considerem molt curt com a mes de 6 hores\n",
    "    &(subset_data['tpep_pickup_datetime'].dt.year == year)  # Les dades s'importen per mes i any. Les dates són correctes? \n",
    "    &(subset_data['tpep_dropoff_datetime'].dt.year == year) # Les dades s'importen per mes i any. Les dates són correctes? \n",
    "    &(subset_data['tpep_pickup_datetime'].dt.month == month) # Les dades s'importen per mes i any. Les dates són correctes? \n",
    "    &(subset_data['tpep_dropoff_datetime'].dt.month == month) # Les dades s'importen per mes i any. Les dates són correctes? \n",
    "    &(subset_data['passenger_count'] > 0) # porta 0 passatgers?\n",
    "    &(subset_data['total_amount'] > 0) # Pagaments negatius.\n",
    "    &(subset_data['trip_distance'] > 0)] # distancia = 0, no s'ha mogut el taxi.\n",
    "\n",
    "   \n",
    "    def_data = aux_data.reset_index(drop=True)\n",
    "    #print('subset',def_data)\n",
    "    return(def_data)\n",
    "    \n",
    "    #raise NotImplementedError\n",
    "\n",
    "\n",
    "clean_data(data,2020,3,sampling = 1000)"
   ]
  },
  {
   "cell_type": "markdown",
   "id": "concrete-underground",
   "metadata": {},
   "source": [
    "A la funció *post_processing* podeu afegir tota aquesta informació que necessiteu sobre les dades per tal de dur a terme l'exploració necessària."
   ]
  },
  {
   "cell_type": "code",
   "execution_count": 9,
   "id": "immediate-pakistan",
   "metadata": {
    "tags": []
   },
   "outputs": [],
   "source": [
    "def post_processing(data):\n",
    "    \"\"\"\n",
    "    Funció on implementar qualsevol tipus de postprocessament necessari.\n",
    "    \"\"\"\t\n",
    "    \n",
    "    #we transform type of date columns to datetime dtype\n",
    "    data['tpep_pickup_datetime'] = pd.to_datetime(data['tpep_pickup_datetime'])\n",
    "    data['tpep_dropoff_datetime'] = pd.to_datetime(data['tpep_dropoff_datetime'])\n",
    "    dif = ((data['tpep_dropoff_datetime'] - data['tpep_pickup_datetime']).dt.total_seconds()/3600)\n",
    "    data['trip_duration'] = round(dif, 3).astype('float64')\n",
    "\n",
    "    return data\n"
   ]
  },
  {
   "cell_type": "markdown",
   "id": "systematic-slovakia",
   "metadata": {},
   "source": [
    "Crea un nou dataset que contingui tota la informació dels anys: 2019, 2020, 2021.\n",
    "\n",
    "Recordeu que per tal de reduir la memòria necessària, podeu agafar un subsample de dades."
   ]
  },
  {
   "cell_type": "code",
   "execution_count": 10,
   "id": "suspended-suicide",
   "metadata": {
    "tags": []
   },
   "outputs": [
    {
     "data": {
      "application/vnd.jupyter.widget-view+json": {
       "model_id": "1d2ceed1cd654c1998f8c7cceaa875d1",
       "version_major": 2,
       "version_minor": 0
      },
      "text/plain": [
       "  0%|          | 0/3 [00:00<?, ?it/s]"
      ]
     },
     "metadata": {},
     "output_type": "display_data"
    },
    {
     "data": {
      "application/vnd.jupyter.widget-view+json": {
       "model_id": "e54cc47deb334180a183586db18e1cb5",
       "version_major": 2,
       "version_minor": 0
      },
      "text/plain": [
       "  0%|          | 0/12 [00:00<?, ?it/s]"
      ]
     },
     "metadata": {},
     "output_type": "display_data"
    },
    {
     "data": {
      "application/vnd.jupyter.widget-view+json": {
       "model_id": "5c17a65b96394041a6b60cae3566ee19",
       "version_major": 2,
       "version_minor": 0
      },
      "text/plain": [
       "  0%|          | 0/12 [00:00<?, ?it/s]"
      ]
     },
     "metadata": {},
     "output_type": "display_data"
    },
    {
     "data": {
      "application/vnd.jupyter.widget-view+json": {
       "model_id": "ba8bd5a6dc1e498b99f1053d02c358f7",
       "version_major": 2,
       "version_minor": 0
      },
      "text/plain": [
       "  0%|          | 0/12 [00:00<?, ?it/s]"
      ]
     },
     "metadata": {},
     "output_type": "display_data"
    }
   ],
   "source": [
    "df = pd.concat([clean_data(load_table(year, month), year, month) for year in tqdm(YEARS) for month in tqdm(range(1, 13), leave = False)])"
   ]
  },
  {
   "cell_type": "code",
   "execution_count": 11,
   "id": "indonesian-indication",
   "metadata": {},
   "outputs": [
    {
     "data": {
      "text/plain": [
       "(31522, 10)"
      ]
     },
     "execution_count": 11,
     "metadata": {},
     "output_type": "execute_result"
    }
   ],
   "source": [
    "df = post_processing(df)\n",
    "df.shape"
   ]
  },
  {
   "cell_type": "code",
   "execution_count": 12,
   "id": "silver-telescope",
   "metadata": {},
   "outputs": [
    {
     "data": {
      "text/html": [
       "<div>\n",
       "<style scoped>\n",
       "    .dataframe tbody tr th:only-of-type {\n",
       "        vertical-align: middle;\n",
       "    }\n",
       "\n",
       "    .dataframe tbody tr th {\n",
       "        vertical-align: top;\n",
       "    }\n",
       "\n",
       "    .dataframe thead th {\n",
       "        text-align: right;\n",
       "    }\n",
       "</style>\n",
       "<table border=\"1\" class=\"dataframe\">\n",
       "  <thead>\n",
       "    <tr style=\"text-align: right;\">\n",
       "      <th></th>\n",
       "      <th>tpep_pickup_datetime</th>\n",
       "      <th>tpep_dropoff_datetime</th>\n",
       "      <th>passenger_count</th>\n",
       "      <th>trip_distance</th>\n",
       "      <th>PULocationID</th>\n",
       "      <th>DOLocationID</th>\n",
       "      <th>payment_type</th>\n",
       "      <th>fare_amount</th>\n",
       "      <th>total_amount</th>\n",
       "      <th>trip_duration</th>\n",
       "    </tr>\n",
       "  </thead>\n",
       "  <tbody>\n",
       "    <tr>\n",
       "      <th>0</th>\n",
       "      <td>2019-01-01 00:46:40</td>\n",
       "      <td>2019-01-01 00:53:20</td>\n",
       "      <td>1.0</td>\n",
       "      <td>1.5</td>\n",
       "      <td>151</td>\n",
       "      <td>239</td>\n",
       "      <td>1</td>\n",
       "      <td>7.0</td>\n",
       "      <td>9.95</td>\n",
       "      <td>0.111</td>\n",
       "    </tr>\n",
       "  </tbody>\n",
       "</table>\n",
       "</div>"
      ],
      "text/plain": [
       "  tpep_pickup_datetime tpep_dropoff_datetime  passenger_count  trip_distance  \\\n",
       "0  2019-01-01 00:46:40   2019-01-01 00:53:20              1.0            1.5   \n",
       "\n",
       "   PULocationID  DOLocationID  payment_type  fare_amount  total_amount  \\\n",
       "0           151           239             1          7.0          9.95   \n",
       "\n",
       "   trip_duration  \n",
       "0          0.111  "
      ]
     },
     "execution_count": 12,
     "metadata": {},
     "output_type": "execute_result"
    }
   ],
   "source": [
    "df.head(1)"
   ]
  },
  {
   "cell_type": "markdown",
   "id": "loving-karen",
   "metadata": {},
   "source": [
    "## 02. Visualitzacions per anys"
   ]
  },
  {
   "cell_type": "markdown",
   "id": "liquid-plasma",
   "metadata": {},
   "source": [
    "### Número total sobre quantitat de viatges\n",
    "\n",
    "Podem respondre directament la pregunta: **¿Ha incrementat / disminuït la covid la quantitat de viatges fets amb taxis?**\n",
    "\n",
    "Per respondre aquesta pregunta creu una figura de barres on es visualitzin la quantitat de viatges per any."
   ]
  },
  {
   "cell_type": "code",
   "execution_count": 75,
   "id": "443f0550",
   "metadata": {},
   "outputs": [],
   "source": [
    "def bar_plot(df, column, xlabel, ylabel, title):\n",
    "    \"\"\"\n",
    "    Funció que crea una figura de barres a partir del dataframe i la columna que conté la informació\n",
    "    \"\"\"\n",
    "    df['tpep_pickup_datetime'] = pd.to_datetime(df['tpep_pickup_datetime'])\n",
    "\n",
    "    anys = [df['tpep_pickup_datetime'].dt.year]\n",
    "    interval = [2019, 2020, 2021]\n",
    "\n",
    "    dades = {\n",
    "        '2019': [(df['tpep_pickup_datetime'].dt.year==2019).sum()],\n",
    "        '2020': [(df['tpep_pickup_datetime'].dt.year==2020).sum()],\n",
    "        '2021': [(df['tpep_pickup_datetime'].dt.year==2021).sum()]\n",
    "    }\n",
    "\n",
    "    viatges_anys = pd.DataFrame(dades)\n",
    "\n",
    "    #print(viatges_anys)\n",
    "\n",
    "    plt.hist(x=anys, bins=3, color='lightblue', rwidth=0.85)\n",
    "    plt.title(title)\n",
    "    plt.xlabel(xlabel)\n",
    "    plt.ylabel(ylabel)\n",
    "    plt.xticks(interval)\n",
    "  \n",
    "    plt.show()\n",
    "\n",
    "    return  viatges_anys"
   ]
  },
  {
   "cell_type": "code",
   "execution_count": 76,
   "id": "558a4659",
   "metadata": {},
   "outputs": [
    {
     "data": {
      "image/png": "[encoded data removed]",
      "text/plain": [
       "<Figure size 432x288 with 1 Axes>"
      ]
     },
     "metadata": {
      "needs_background": "light"
     },
     "output_type": "display_data"
    }
   ],
   "source": [
    "plot = bar_plot(df, 'year', 'Any', 'Quanitat de viatges', 'Quanitat de viatges per any')"
   ]
  },
  {
   "cell_type": "markdown",
   "id": "polish-davis",
   "metadata": {},
   "source": [
    "**Pregunta: És el comportament que esperàveu? Per què?**"
   ]
  },
  {
   "cell_type": "markdown",
   "id": "upper-mainstream",
   "metadata": {},
   "source": [
    "> ANSWER"
   ]
  },
  {
   "cell_type": "code",
   "execution_count": 15,
   "id": "contrary-chemistry",
   "metadata": {},
   "outputs": [
    {
     "name": "stdout",
     "output_type": "stream",
     "text": [
      "Analitzem les diferencies entre viatjes\n",
      " Entre 2019 i 2020 el canvi en els viatjes va ser d'un:  -2.9 %\n",
      " Entre 2020 i 2021 el canvi en els viatjes va ser d'un:  2.08 %\n",
      "\n"
     ]
    }
   ],
   "source": [
    "print(\"Analitzem les diferencies entre viatjes\\n\", \n",
    "\"Entre 2019 i 2020 el canvi en els viatjes va ser d'un: \",round(((plot.loc[0]['2020']-plot.loc[0]['2019'])/(plot.loc[0]['2019']+plot.loc[0]['2020'])*100), 2),\"%\\n\",\n",
    "\"Entre 2020 i 2021 el canvi en els viatjes va ser d'un: \",round(((plot.loc[0]['2021']-plot.loc[0]['2020'])/(plot.loc[0]['2021']+plot.loc[0]['2020'])*100), 2),\"%\\n\")\n"
   ]
  },
  {
   "cell_type": "markdown",
   "id": "artistic-decrease",
   "metadata": {},
   "source": [
    "Ara, visualitzarem **quants passatgers hi ha per taxi i per any**.\n",
    "\n",
    "Crea una figura amb tres subfigures (una per any) on es pugui veure el recompte de passatgers per any.\n",
    "\n",
    "Després repetiu el mateix gràfic visualitzant el % (utilitzeu el paràmetre *norm*)."
   ]
  },
  {
   "cell_type": "code",
   "execution_count": 61,
   "id": "executed-chaos",
   "metadata": {},
   "outputs": [],
   "source": [
    "from locale import normalize\n",
    "\n",
    "\n",
    "def passengers_taxi_year(df, ylim, xlabel, ylabel, title, norm = False):\n",
    "    \"\"\"\n",
    "    Funció que visualitza quants passatgers hi ha per taxi i per any\n",
    "    \"\"\"\n",
    "    df['tpep_pickup_datetime'] = pd.to_datetime(df['tpep_pickup_datetime'])\n",
    "\n",
    "    #pillar el subset nomes ed psenger count i any\n",
    "    data_19= df[df['tpep_pickup_datetime'].dt.year == 2019]\n",
    "    data_19 = data_19['passenger_count']\n",
    "    pasatgers_19 = pd.DataFrame(data_19)\n",
    "\n",
    "    data_20= df[df['tpep_pickup_datetime'].dt.year == 2020]\n",
    "    data_20 = data_20['passenger_count']\n",
    "    pasatgers_20 = pd.DataFrame(data_20)\n",
    "\n",
    "    data_21= df[df['tpep_pickup_datetime'].dt.year == 2021]\n",
    "    data_21 = data_21['passenger_count']\n",
    "    pasatgers_21 = pd.DataFrame(data_21)\n",
    "\n",
    "\n",
    "    #creating figure\n",
    "    fig, axs = plt.subplots(1, 3, figsize = (17, 5)) # (rows, columns, panel number)\n",
    "    fig.tight_layout(pad=7.0)\n",
    "    \n",
    "    #densidad: una bandera booleana para trazar valores normalizados. Por defecto, es False.\n",
    "    # create the first of three panels and set current axis\n",
    "    axs[0].hist(pasatgers_19, color='lightcoral', density = norm)\n",
    "    axs[0].set_title(title + ' 2019')\n",
    "    axs[0].set_xlabel(xlabel)\n",
    "    axs[0].set_ylabel(ylabel)\n",
    "    axs[0].set_ylim(ylim)\n",
    "\n",
    "    # create the second panel and set current axis\n",
    "    axs[1].hist(pasatgers_20, color='cornflowerblue', density = norm)\n",
    "    axs[1].set_title(title + ' 2020')\n",
    "    axs[1].set_xlabel(xlabel)\n",
    "    axs[1].set_ylabel(ylabel)\n",
    "    axs[1].set_ylim(ylim)\n",
    "\n",
    "    # create the third panel and set current axis\n",
    "    axs[2].hist(pasatgers_21, color='mediumseagreen', density = norm)\n",
    "    axs[2].set_title(title + ' 2021')\n",
    "    axs[2].set_xlabel(xlabel)\n",
    "    axs[2].set_ylabel(ylabel)\n",
    "    axs[2].set_ylim(ylim)\n",
    "\n",
    "    plt.show()\n"
   ]
  },
  {
   "cell_type": "code",
   "execution_count": 62,
   "id": "mighty-population",
   "metadata": {
    "tags": []
   },
   "outputs": [
    {
     "data": {
      "image/png": "[encoded data removed]",
      "text/plain": [
       "<Figure size 1224x360 with 3 Axes>"
      ]
     },
     "metadata": {
      "needs_background": "light"
     },
     "output_type": "display_data"
    }
   ],
   "source": [
    "passengers_taxi_year(df, (0, 60000), 'Nombre de passatgers', 'Recompte de passatgers', 'Recompte de passatgers per any')"
   ]
  },
  {
   "cell_type": "code",
   "execution_count": 63,
   "id": "clear-charles",
   "metadata": {
    "tags": []
   },
   "outputs": [
    {
     "data": {
      "image/png": "[encoded data removed]",
      "text/plain": [
       "<Figure size 1224x360 with 3 Axes>"
      ]
     },
     "metadata": {
      "needs_background": "light"
     },
     "output_type": "display_data"
    }
   ],
   "source": [
    "passengers_taxi_year(df, (0, 0.8), 'Nombre de passatgers', '%', '% de passatgers per any', norm = True)"
   ]
  },
  {
   "cell_type": "code",
   "execution_count": null,
   "id": "ignored-hebrew",
   "metadata": {},
   "outputs": [],
   "source": []
  },
  {
   "cell_type": "markdown",
   "id": "suspended-regular",
   "metadata": {},
   "source": [
    "A la figura anterior hem visualitzat cada any per separat. Per tal que la visualització sigui més ràpida i simple d'interpretar, uniu tota la informació en un gràfic.\n",
    "\n",
    "Després repetiu el mateix gràfic visualitzant el % (utilitzeu el paràmetre *norm*)."
   ]
  },
  {
   "cell_type": "code",
   "execution_count": 64,
   "id": "retained-rotation",
   "metadata": {},
   "outputs": [],
   "source": [
    "import matplotlib.patches as mpatches\n",
    "\n",
    "\n",
    "def passengers_taxi(df, xlabel, ylabel, norm = False):\n",
    "    \"\"\"\n",
    "    Funció que visualitza quants passatgers hi ha per taxi\n",
    "    \"\"\"\n",
    "    df['tpep_pickup_datetime'] = pd.to_datetime(df['tpep_pickup_datetime'])\n",
    "\n",
    "    #pillar el subset nomes ed psenger count i any\n",
    "    data_19= df[df['tpep_pickup_datetime'].dt.year == 2019]\n",
    "    data_19 = data_19['passenger_count']\n",
    "    pasatgers_19 = pd.DataFrame(data_19)\n",
    "\n",
    "    data_20= df[df['tpep_pickup_datetime'].dt.year == 2020]\n",
    "    data_20 = data_20['passenger_count']\n",
    "    pasatgers_20 = pd.DataFrame(data_20)\n",
    "\n",
    "    data_21= df[df['tpep_pickup_datetime'].dt.year == 2021]\n",
    "    data_21 = data_21['passenger_count']\n",
    "    pasatgers_21 = pd.DataFrame(data_21)\n",
    "\n",
    "    kwargs = dict(alpha=0.4)\n",
    "\n",
    "    plt.hist(pasatgers_19, **kwargs, color='red', density = norm)\n",
    "    plt.hist(pasatgers_20, **kwargs, color='blue', density = norm)\n",
    "    plt.hist(pasatgers_21, **kwargs, color='green', density = norm)\n",
    "    \n",
    "    #al aplicar el alpha los colores se ven menos intensos por eso en la leyenda usamos la version mas clara de ellos\n",
    "    patch19 = mpatches.Patch(color='lightcoral', label='2019')\n",
    "    patch20 = mpatches.Patch(color='cornflowerblue', label='2020')\n",
    "    patch21 = mpatches.Patch(color='mediumseagreen', label='2021')\n",
    "    plt.legend(handles=[patch19,patch20,patch21])\n",
    "    plt.show()\n"
   ]
  },
  {
   "cell_type": "code",
   "execution_count": 65,
   "id": "tired-surrey",
   "metadata": {
    "tags": []
   },
   "outputs": [
    {
     "data": {
      "image/png": "[encoded data removed]",
      "text/plain": [
       "<Figure size 432x288 with 1 Axes>"
      ]
     },
     "metadata": {
      "needs_background": "light"
     },
     "output_type": "display_data"
    }
   ],
   "source": [
    "passengers_taxi(df, 'Passenger Count', 'Amount')"
   ]
  },
  {
   "cell_type": "code",
   "execution_count": 21,
   "id": "reflected-system",
   "metadata": {
    "tags": []
   },
   "outputs": [
    {
     "data": {
      "image/png": "[encoded data removed]",
      "text/plain": [
       "<Figure size 432x288 with 1 Axes>"
      ]
     },
     "metadata": {
      "needs_background": "light"
     },
     "output_type": "display_data"
    }
   ],
   "source": [
    "passengers_taxi(df, 'Passenger Count', 'Amount', norm = True)"
   ]
  },
  {
   "cell_type": "markdown",
   "id": "rolled-graphic",
   "metadata": {},
   "source": [
    "**Pregunta: Quin impacte heu vist sobre les dades? Creieu que la covid va tenir molt impacte?**"
   ]
  },
  {
   "cell_type": "markdown",
   "id": "popular-prince",
   "metadata": {},
   "source": [
    "> ANSWER"
   ]
  },
  {
   "cell_type": "code",
   "execution_count": null,
   "id": "pregnant-value",
   "metadata": {},
   "outputs": [],
   "source": []
  },
  {
   "cell_type": "markdown",
   "id": "desirable-activation",
   "metadata": {},
   "source": [
    "## 03. Quantitat de viatges\n",
    "\n",
    "Fins ara hem vist la quantitat de viatges que hi ha hagut en els anys estudiats.\n",
    "\n",
    "Anem a estudiar quins canvis es poden veure si agreguem les dades per hores, dies de la setmana, setmana de l'any i mes.\n",
    "\n",
    "Aquests gràfics han de ser de línies discontínues i marcar amb una rodona o creu allà on està el valor"
   ]
  },
  {
   "cell_type": "code",
   "execution_count": 22,
   "id": "veterinary-window",
   "metadata": {},
   "outputs": [],
   "source": [
    "def visualize_trips(columns, title, xlabel, ylabel):\n",
    "    \"\"\"\n",
    "    Funció que visualitza els viatges per diferents agregacions de dades\n",
    "    \"\"\"\n",
    "    \n",
    "    # AQUÍ EL TEU CODI\n",
    "    raise NotImplementedError"
   ]
  },
  {
   "cell_type": "code",
   "execution_count": 23,
   "id": "military-chester",
   "metadata": {
    "tags": []
   },
   "outputs": [
    {
     "ename": "NotImplementedError",
     "evalue": "",
     "output_type": "error",
     "traceback": [
      "\u001b[1;31m---------------------------------------------------------------------------\u001b[0m",
      "\u001b[1;31mNotImplementedError\u001b[0m                       Traceback (most recent call last)",
      "\u001b[1;32m<ipython-input-23-e154242ff412>\u001b[0m in \u001b[0;36m<module>\u001b[1;34m\u001b[0m\n\u001b[1;32m----> 1\u001b[1;33m \u001b[0mvisualize_trips\u001b[0m\u001b[1;33m(\u001b[0m\u001b[1;33m[\u001b[0m\u001b[1;34m'pickup_hour'\u001b[0m\u001b[1;33m,\u001b[0m \u001b[1;34m'dropoff_hour'\u001b[0m\u001b[1;33m]\u001b[0m\u001b[1;33m,\u001b[0m \u001b[0mtitle\u001b[0m \u001b[1;33m=\u001b[0m \u001b[1;34m'Quantitat de viatges per hora'\u001b[0m\u001b[1;33m,\u001b[0m \u001b[0mxlabel\u001b[0m \u001b[1;33m=\u001b[0m \u001b[1;34m'Hora del dia'\u001b[0m\u001b[1;33m,\u001b[0m \u001b[0mylabel\u001b[0m \u001b[1;33m=\u001b[0m \u001b[1;34m'Quanitat'\u001b[0m\u001b[1;33m)\u001b[0m\u001b[1;33m\u001b[0m\u001b[1;33m\u001b[0m\u001b[0m\n\u001b[0m",
      "\u001b[1;32m<ipython-input-22-b4c148346da2>\u001b[0m in \u001b[0;36mvisualize_trips\u001b[1;34m(columns, title, xlabel, ylabel)\u001b[0m\n\u001b[0;32m      5\u001b[0m \u001b[1;33m\u001b[0m\u001b[0m\n\u001b[0;32m      6\u001b[0m     \u001b[1;31m# AQUÍ EL TEU CODI\u001b[0m\u001b[1;33m\u001b[0m\u001b[1;33m\u001b[0m\u001b[1;33m\u001b[0m\u001b[0m\n\u001b[1;32m----> 7\u001b[1;33m     \u001b[1;32mraise\u001b[0m \u001b[0mNotImplementedError\u001b[0m\u001b[1;33m\u001b[0m\u001b[1;33m\u001b[0m\u001b[0m\n\u001b[0m",
      "\u001b[1;31mNotImplementedError\u001b[0m: "
     ]
    }
   ],
   "source": [
    "visualize_trips(['pickup_hour', 'dropoff_hour'], title = 'Quantitat de viatges per hora', xlabel = 'Hora del dia', ylabel = 'Quanitat')"
   ]
  },
  {
   "cell_type": "code",
   "execution_count": null,
   "id": "communist-region",
   "metadata": {
    "tags": []
   },
   "outputs": [],
   "source": [
    "visualize_trips(['pickup_day', 'dropoff_day'], title = 'Quantitat de viatges per dia de la setmana', xlabel = 'Dia de la setmana', ylabel = 'Quanitat')"
   ]
  },
  {
   "cell_type": "code",
   "execution_count": null,
   "id": "amazing-battlefield",
   "metadata": {
    "tags": []
   },
   "outputs": [],
   "source": [
    "visualize_trips(['pickup_week', 'dropoff_week'], title = 'Quantitat de viatges per setmana de l\\'any', xlabel = 'Setmana de l\\'any', ylabel = 'Quanitat')"
   ]
  },
  {
   "cell_type": "code",
   "execution_count": null,
   "id": "digital-primary",
   "metadata": {
    "tags": []
   },
   "outputs": [],
   "source": [
    "visualize_trips(['pickup_month', 'dropoff_month'], title = 'Quantitat de viatges per mes', xlabel = 'Mes de l\\'any', ylabel = 'Quanitat')"
   ]
  },
  {
   "cell_type": "markdown",
   "id": "sapphire-cement",
   "metadata": {},
   "source": [
    "**Pregunta: Quins comportaments veieu en cada cas? Quin creieu que és el motiu?**"
   ]
  },
  {
   "cell_type": "markdown",
   "id": "insured-holmes",
   "metadata": {},
   "source": [
    "> ANSWER"
   ]
  },
  {
   "cell_type": "code",
   "execution_count": null,
   "id": "accessory-hampshire",
   "metadata": {},
   "outputs": [],
   "source": []
  },
  {
   "cell_type": "markdown",
   "id": "separated-strip",
   "metadata": {},
   "source": [
    "## 04. Relació distancia - temps i velocitat\n",
    "\n",
    "A les dades tenim la distància que ha recorregut el taxi en cada viatge i de la informació temporal podem extreure també la duració d'aquest.\n",
    "\n",
    "\n",
    "Intentarem esbrinar com la covid va afectar les distàncies i les durades dels viatges juntament amb la velocitat dels taxis.\n",
    "\n",
    "Creieu que la densitat de trànsit va variar?"
   ]
  },
  {
   "cell_type": "markdown",
   "id": "academic-riding",
   "metadata": {},
   "source": [
    "### Histogrames\n",
    "\n",
    "Per començar visualitza els **histogrames** de distància i durada per any.\n",
    "\n",
    "Pots fer servir la funció *plt.hist()* o *plt.bar()*."
   ]
  },
  {
   "cell_type": "code",
   "execution_count": 24,
   "id": "killing-premises",
   "metadata": {},
   "outputs": [],
   "source": [
    "def visualize_histograms(df, column, title, xlabel, ylabel, xlim):\n",
    "    \"\"\"\n",
    "    Funció que crea un histograma a partir de la informació que conté la columna del dataframe\n",
    "    \n",
    "    \"\"\"\n",
    "    df['tpep_pickup_datetime'] = pd.to_datetime(df['tpep_pickup_datetime'])\n",
    "    \n",
    "    data_19= df[df['tpep_pickup_datetime'].dt.year == 2019]\n",
    "    data_19 = data_19[column]\n",
    "    data_19 = pd.DataFrame(data_19)\n",
    "\n",
    "    data_20= df[df['tpep_pickup_datetime'].dt.year == 2020]\n",
    "    data_20 = data_20[column]\n",
    "    data_20 = pd.DataFrame(data_20)\n",
    "\n",
    "    data_21= df[df['tpep_pickup_datetime'].dt.year == 2021]\n",
    "    data_21 = data_21[column]\n",
    "    data_21 = pd.DataFrame(data_21)\n",
    "\n",
    "    # creating figure\n",
    "    fig, axs = plt.subplots(1, 3, figsize = (17, 5)) # (rows, columns, panel number)\n",
    "    fig.tight_layout(pad=7.0)\n",
    "    \n",
    "    #densidad: una bandera booleana para trazar valores normalizados. Por defecto, es False.\n",
    "    # create the first of three panels and set current axis\n",
    "    axs[0].hist(data_19, color='lightcoral')\n",
    "    axs[0].set_title(title + ' 2019')\n",
    "    axs[0].set_xlabel(xlabel)\n",
    "    axs[0].set_ylabel(ylabel)\n",
    "    axs[0].set_xlim(xlim)\n",
    "    #axs[0].set_ylim((0,1))\n",
    "\n",
    "    # create the second panel and set current axis\n",
    "    axs[1].hist(data_20, color='cornflowerblue')\n",
    "    axs[1].set_title(title + ' 2020')\n",
    "    axs[1].set_xlabel(xlabel)\n",
    "    axs[1].set_ylabel(ylabel)\n",
    "    axs[1].set_xlim(xlim)\n",
    "    #axs[1].set_ylim((0,1))\n",
    "\n",
    "    # create the third panel and set current axis\n",
    "    axs[2].hist(data_21, color='mediumseagreen')\n",
    "    axs[2].set_title(title + ' 2021')\n",
    "    axs[2].set_xlabel(xlabel)\n",
    "    axs[2].set_ylabel(ylabel)\n",
    "    axs[2].set_xlim(xlim)\n",
    "    #axs[2].set_ylim((0,1))\n",
    "\n",
    "    plt.show()"
   ]
  },
  {
   "cell_type": "code",
   "execution_count": 25,
   "id": "emerging-bookmark",
   "metadata": {
    "tags": []
   },
   "outputs": [
    {
     "data": {
      "image/png": "[encoded data removed]",
      "text/plain": [
       "<Figure size 1224x360 with 3 Axes>"
      ]
     },
     "metadata": {
      "needs_background": "light"
     },
     "output_type": "display_data"
    },
    {
     "data": {
      "image/png": "[encoded data removed]",
      "text/plain": [
       "<Figure size 1224x360 with 3 Axes>"
      ]
     },
     "metadata": {
      "needs_background": "light"
     },
     "output_type": "display_data"
    }
   ],
   "source": [
    "visualize_histograms(df, 'trip_distance', title = 'Distancia dels viatge per any', \n",
    "                     xlabel = 'Distancia (km)', ylabel = 'Quanitat', xlim = (-5, 80))\n",
    "\n",
    "visualize_histograms(df, 'trip_duration', title = 'Durada dels viatge per any', \n",
    "                     xlabel = 'Duració (h)', ylabel = 'Quanitat', xlim = (-1, 25) )"
   ]
  },
  {
   "cell_type": "markdown",
   "id": "explicit-hydrogen",
   "metadata": {},
   "source": [
    "**PREGUNTES:** \n",
    "\n",
    "* Com creieu que la covid va afectar les distàncies i durades dels viatges?\n",
    "\n",
    "* I a la velocitat dels taxis?"
   ]
  },
  {
   "cell_type": "markdown",
   "id": "operating-tract",
   "metadata": {},
   "source": [
    "> ANSWER"
   ]
  },
  {
   "cell_type": "code",
   "execution_count": null,
   "id": "organic-synthetic",
   "metadata": {},
   "outputs": [],
   "source": []
  },
  {
   "cell_type": "markdown",
   "id": "animated-mexican",
   "metadata": {
    "tags": []
   },
   "source": [
    "### Gràfic de dispersió i correlació\n",
    "\n",
    "Crea gràfics de dispersió per il·lustrar la relació entre la durada i la distància dels viatges.\n",
    "\n",
    "Es possible que les dades continguin mostres fora la distribució (outliers). En aquest cas, omet aquestes dades i torna a visualitzar el grafic.\n",
    "\n",
    "Per veure si existeix alguna correlació, es interesant que utilitzeu la funció *sns.regplot()*."
   ]
  },
  {
   "cell_type": "code",
   "execution_count": 72,
   "id": "stretch-sally",
   "metadata": {},
   "outputs": [],
   "source": [
    "def scatter_plot(df, x_value, y_value, xlabel, ylabel, remove_outliers = False):\n",
    "    \"\"\"\n",
    "    Funció que mostra un scatter plot donades dues dades\n",
    "    \"\"\"\n",
    "    # loading dataset\n",
    "    cols =[x_value, y_value]# one or more\n",
    "    data = df[cols]\n",
    "    '''la unica manera que he trobat despres de buscar tot lo possible i llegir la documentacio \n",
    "    es filtrar el dataframe. es a dir, no hi ha un parametre dins el regplot per poder eliminar els outlier\n",
    "    He optat per fer servir quartils i rang interquartilic, però he cregut que eliminava massa valors i \n",
    "    Finalment he decidit fer-ho amb percentils'''\n",
    "\n",
    "    if(remove_outliers):\n",
    "        P1 = data[cols].quantile(0.05)\n",
    "        P2 = data[cols].quantile(0.95)\n",
    "        IPR = P2 - P1\n",
    "\n",
    "        data = data[~((data[cols]<(P1 -1.5* IPR))|(data[cols]>(P2 +1.5* IPR))).any(axis=1)]\n",
    "\n",
    "    # draw regplot\n",
    "    sns.regplot(x = x_value, \n",
    "                y = y_value, \n",
    "                data = data, \n",
    "                truncate = False, \n",
    "                line_kws={\"color\":\"steelblue\",\"alpha\":0.8,\"lw\":2}, \n",
    "                scatter_kws={\"color\": \"lightblue\"})\n",
    "     \n",
    "    # show the plot\n",
    "    plt.show()"
   ]
  },
  {
   "cell_type": "code",
   "execution_count": 73,
   "id": "divided-commissioner",
   "metadata": {
    "tags": []
   },
   "outputs": [
    {
     "data": {
      "image/png": "[encoded data removed]",
      "text/plain": [
       "<Figure size 432x288 with 1 Axes>"
      ]
     },
     "metadata": {
      "needs_background": "light"
     },
     "output_type": "display_data"
    }
   ],
   "source": [
    "scatter_plot(df, 'trip_distance', 'trip_duration', 'Distancia (km)', 'Temps (h)')"
   ]
  },
  {
   "cell_type": "code",
   "execution_count": 74,
   "id": "first-olympus",
   "metadata": {
    "tags": []
   },
   "outputs": [
    {
     "data": {
      "image/png": "[encoded data removed]",
      "text/plain": [
       "<Figure size 432x288 with 1 Axes>"
      ]
     },
     "metadata": {
      "needs_background": "light"
     },
     "output_type": "display_data"
    }
   ],
   "source": [
    "scatter_plot(df, 'trip_distance', 'trip_duration', 'Distancia (km)', 'Temps (h)', True)"
   ]
  },
  {
   "cell_type": "markdown",
   "id": "catholic-quest",
   "metadata": {},
   "source": [
    "**Pregunta: Pots veure alguna relació? Pots calcular la correlació entre les dades per treure més informació?**"
   ]
  },
  {
   "cell_type": "markdown",
   "id": "french-holder",
   "metadata": {},
   "source": [
    "> ANSWER"
   ]
  },
  {
   "cell_type": "code",
   "execution_count": null,
   "id": "stone-neighborhood",
   "metadata": {},
   "outputs": [],
   "source": []
  },
  {
   "cell_type": "markdown",
   "id": "palestinian-buffalo",
   "metadata": {},
   "source": [
    "Tal com fèiem a l'apartat 3, visualitzeu les dades temporals i de distància a partir de les setmanes, i mesos de l'any."
   ]
  },
  {
   "cell_type": "code",
   "execution_count": null,
   "id": "german-graham",
   "metadata": {},
   "outputs": [],
   "source": [
    "def visualize_per_period(df, column_data, columns, xlabel, ylabel, title):\n",
    "    \"\"\"\n",
    "    Funció que visualitza la distància / duració dels trajectes en un temps a determinar\n",
    "    \"\"\"\n",
    "    # AQUÍ EL TEU CODI\n",
    "    raise NotImplementedError"
   ]
  },
  {
   "cell_type": "code",
   "execution_count": null,
   "id": "judicial-breast",
   "metadata": {
    "tags": []
   },
   "outputs": [],
   "source": [
    "visualize_per_period(df, 'trip_distance', columns = ['pickup_week', 'dropoff_week'],\n",
    "                    xlabel = 'Setmana de l\\'any', ylabel = 'Distancia mitjana (km)', title = 'Distancia dels viatges per setmanes')"
   ]
  },
  {
   "cell_type": "code",
   "execution_count": null,
   "id": "banned-panama",
   "metadata": {
    "tags": []
   },
   "outputs": [],
   "source": [
    "visualize_per_period(df, 'trip_distance', columns = ['pickup_month', 'dropoff_month'],\n",
    "                     xlabel = 'Mes de l\\'any', ylabel = 'Distancia mitjana (km)', title = 'Distancia dels viatges per mesos')"
   ]
  },
  {
   "cell_type": "code",
   "execution_count": null,
   "id": "central-ratio",
   "metadata": {
    "tags": []
   },
   "outputs": [],
   "source": [
    "visualize_per_period(df, 'trip_duration', columns = ['pickup_week', 'dropoff_week'],\n",
    "                     xlabel = 'Setmana de l\\'any', ylabel = 'Durada mitjana (h)', title = 'Durada dels viatges per setmanes')"
   ]
  },
  {
   "cell_type": "code",
   "execution_count": null,
   "id": "thousand-madison",
   "metadata": {
    "tags": []
   },
   "outputs": [],
   "source": [
    "visualize_per_period(df, 'trip_duration', columns = ['pickup_month', 'dropoff_month'],\n",
    "                     xlabel = 'Mes de l\\'any', ylabel = 'Durada mitjana (h)', title = 'Durada dels viatges per mesos')"
   ]
  },
  {
   "cell_type": "markdown",
   "id": "grateful-captain",
   "metadata": {},
   "source": [
    "**Pregunta: Hi ha algun comportament estrany a part de la covid? Per què pot ser causat?**\n",
    "    \n",
    "> ANSWER"
   ]
  },
  {
   "cell_type": "code",
   "execution_count": null,
   "id": "hungry-portsmouth",
   "metadata": {},
   "outputs": [],
   "source": []
  },
  {
   "cell_type": "markdown",
   "id": "strange-forum",
   "metadata": {},
   "source": [
    "Fins ara hem mostrat les dades de manera agregada.\n",
    "\n",
    "Per tal de visualitzar-ho de manera global, utilitzarem la funció *plt.imshow()* que visualitza imatges i, per tant, matrius."
   ]
  },
  {
   "cell_type": "markdown",
   "id": "humanitarian-tiffany",
   "metadata": {},
   "source": [
    "Implementa una funció que visualitzi per any:\n",
    "\n",
    "- un mapa de calor que indiqui a quina hora del dia hi ha viatges més llargs durant l'any.\n",
    "- un mapa de calor que indiqui a quina hora del dia hi ha viatges més llargs durant la setmana."
   ]
  },
  {
   "cell_type": "code",
   "execution_count": null,
   "id": "psychological-burden",
   "metadata": {},
   "outputs": [],
   "source": [
    "def heatmap(df, group, column_data, xlabel, ylabel, columns = None):\n",
    "    \"\"\"\n",
    "    Funció que agrega les dades de manera adient per visualitzar un mapa de calor\n",
    "    \"\"\"\n",
    "    \n",
    "    # AQUÍ EL TEU CODI\n",
    "    raise NotImplementedError"
   ]
  },
  {
   "cell_type": "code",
   "execution_count": null,
   "id": "binding-tobacco",
   "metadata": {
    "tags": []
   },
   "outputs": [],
   "source": [
    "heatmap(df, ['pickup_hour', 'pickup_dayofyear'], 'trip_duration', 'Dies de l\\'any', 'Hores del dia')"
   ]
  },
  {
   "cell_type": "code",
   "execution_count": null,
   "id": "experimental-sample",
   "metadata": {
    "tags": []
   },
   "outputs": [],
   "source": [
    "heatmap(df, ['pickup_hour', 'pickup_day'], 'trip_duration', 'Hores del dia', 'Dies de la setmana', ['Monday', 'Tuesday', 'Wednesday', 'Thursday', 'Friday', 'Saturday', 'Sunday'])"
   ]
  },
  {
   "cell_type": "code",
   "execution_count": null,
   "id": "another-recommendation",
   "metadata": {},
   "outputs": [],
   "source": []
  },
  {
   "cell_type": "markdown",
   "id": "regulated-supervision",
   "metadata": {
    "tags": []
   },
   "source": [
    "Repeteix els gràfics anteriors visualitzant la distancia."
   ]
  },
  {
   "cell_type": "code",
   "execution_count": null,
   "id": "curious-remark",
   "metadata": {},
   "outputs": [],
   "source": [
    "heatmap(df, ['pickup_hour', 'pickup_dayofyear'], 'trip_distance', 'Dies de l\\'any', 'Hores del dia')"
   ]
  },
  {
   "cell_type": "code",
   "execution_count": null,
   "id": "judicial-vancouver",
   "metadata": {
    "tags": []
   },
   "outputs": [],
   "source": [
    "heatmap(df, ['pickup_hour', 'pickup_day'], 'trip_distance', 'Hores del dia', 'Dies de la setmana', ['Monday', 'Tuesday', 'Wednesday', 'Thursday', 'Friday', 'Saturday', 'Sunday'])"
   ]
  },
  {
   "cell_type": "code",
   "execution_count": null,
   "id": "fossil-brazilian",
   "metadata": {},
   "outputs": [],
   "source": []
  },
  {
   "cell_type": "markdown",
   "id": "reflected-split",
   "metadata": {},
   "source": [
    "Per últim, visualitza la velocitat mitjana a les diferents hores del dia durant la setmana."
   ]
  },
  {
   "cell_type": "code",
   "execution_count": null,
   "id": "animal-causing",
   "metadata": {
    "tags": []
   },
   "outputs": [],
   "source": [
    "def speed_heatmap(df, group, xlabel, ylabel, columns = None):\n",
    "    \"\"\"\n",
    "    Funció que agrega les dades de manera adient per visualitzar la velocitat un mapa de calor\n",
    "    \"\"\"\n",
    "    # AQUÍ EL TEU CODI\n",
    "    raise NotImplementedError"
   ]
  },
  {
   "cell_type": "code",
   "execution_count": null,
   "id": "becoming-restaurant",
   "metadata": {
    "tags": []
   },
   "outputs": [],
   "source": [
    "speed_heatmap(df, ['pickup_hour', 'pickup_day'], 'Hores del dia', 'Dies de la setmana', ['Monday', 'Tuesday', 'Wednesday', 'Thursday', 'Friday', 'Saturday', 'Sunday'])"
   ]
  },
  {
   "cell_type": "markdown",
   "id": "intermediate-paint",
   "metadata": {},
   "source": [
    "**Pregunta: Quines conclusions treieu dels mapes de calor?**\n",
    "    \n",
    "> ANSWER"
   ]
  },
  {
   "cell_type": "code",
   "execution_count": null,
   "id": "republican-scratch",
   "metadata": {},
   "outputs": [],
   "source": []
  },
  {
   "cell_type": "markdown",
   "id": "exterior-seventh",
   "metadata": {},
   "source": [
    "## 05. Visualitzem les localitzacions dels viatges"
   ]
  },
  {
   "cell_type": "code",
   "execution_count": null,
   "id": "empirical-blogger",
   "metadata": {},
   "outputs": [],
   "source": [
    "df.head()"
   ]
  },
  {
   "cell_type": "markdown",
   "id": "institutional-border",
   "metadata": {},
   "source": [
    "Només tenim la ID d'una localització, per tant, necessitem aconseguir la latitud i la longitud.\n",
    "\n",
    "La mateixa pàgina dels taxis ens dóna el fitxer *taxi_zones.zip*, però primer cal que convertim les dades de coordenades amb format WGS84.\n",
    "\n",
    "Podem utilitzar aquesta web: https://mygeodata.cloud/"
   ]
  },
  {
   "cell_type": "code",
   "execution_count": null,
   "id": "sweet-institute",
   "metadata": {},
   "outputs": [],
   "source": [
    "from utils import get_lat_lon, draw_region_map, draw_zone_map"
   ]
  },
  {
   "cell_type": "code",
   "execution_count": null,
   "id": "comprehensive-tactics",
   "metadata": {
    "tags": []
   },
   "outputs": [],
   "source": [
    "sf = shapefile.Reader('data/geodata/taxi_zones.shp')\n",
    "\n",
    "fields_name = [field[0] for field in sf.fields[1:]]\n",
    "shp_dic = dict(zip(fields_name, list(range(len(fields_name)))))\n",
    "attributes = sf.records()\n",
    "shp_attr = [dict(zip(fields_name, attr)) for attr in attributes]"
   ]
  },
  {
   "cell_type": "code",
   "execution_count": null,
   "id": "missing-nursery",
   "metadata": {},
   "outputs": [],
   "source": [
    "df_loc = pd.DataFrame(shp_attr).join(get_lat_lon(sf, shp_dic).set_index(\"LocationID\"), on=\"LocationID\")\n",
    "df_loc.head()"
   ]
  },
  {
   "cell_type": "code",
   "execution_count": null,
   "id": "thorough-better",
   "metadata": {
    "tags": []
   },
   "outputs": [],
   "source": [
    "fig, ax = plt.subplots(nrows=1, ncols=2, figsize=(15,8))\n",
    "ax = plt.subplot(1, 2, 1)\n",
    "ax.set_title(\"Boroughs in NYC\")\n",
    "draw_region_map(ax, sf, shp_dic)\n",
    "ax = plt.subplot(1, 2, 2)\n",
    "ax.set_title(\"Zones in NYC\")\n",
    "draw_zone_map(ax, sf, shp_dic)"
   ]
  },
  {
   "cell_type": "markdown",
   "id": "pending-plasma",
   "metadata": {},
   "source": [
    "Ara teniu dos dataframe que necessitem unir. Utilitza la funció *merge* per afegir la longitud i latitud al dataframe *df*:"
   ]
  },
  {
   "cell_type": "code",
   "execution_count": null,
   "id": "heard-majority",
   "metadata": {},
   "outputs": [],
   "source": [
    "# AQUÍ EL TEU CODI\n",
    "\n",
    "merge = ..."
   ]
  },
  {
   "cell_type": "code",
   "execution_count": null,
   "id": "imported-performance",
   "metadata": {},
   "outputs": [],
   "source": [
    "merge.shape"
   ]
  },
  {
   "cell_type": "code",
   "execution_count": null,
   "id": "right-victoria",
   "metadata": {},
   "outputs": [],
   "source": []
  },
  {
   "cell_type": "markdown",
   "id": "wrong-consolidation",
   "metadata": {},
   "source": [
    "## 06. ¿Quines zones tenen més recollides i quines zones tenen més entregues?\n",
    "\n",
    "En aquest apartat volem conèixer i visualitzar les zones on els taxis són més utilitzats.\n",
    "\n",
    "El primer pas és ordenar i guardar en una variable els llocs més comuns en la recollida i el destí.\n",
    "\n",
    "Printa els 5 llocs més freqüents per any en cada cas."
   ]
  },
  {
   "cell_type": "code",
   "execution_count": null,
   "id": "medical-command",
   "metadata": {},
   "outputs": [],
   "source": [
    "# Recollida\n",
    "# AQUÍ EL TEU CODI\n",
    "top_pu = ...\n",
    "\n",
    "# Destí\n",
    "# AQUÍ EL TEU CODI\n",
    "top_do = ..."
   ]
  },
  {
   "cell_type": "code",
   "execution_count": null,
   "id": "virtual-range",
   "metadata": {},
   "outputs": [],
   "source": [
    "n_top = 5\n",
    "def show_top_n(df, column, df_loc, n_top = n_top):\n",
    "    \"\"\"\n",
    "    Funció que mostra els llocs més usuals per any\n",
    "    \"\"\"\n",
    "    # AQUÍ EL TEU CODI\n",
    "    raise NotImplementedError"
   ]
  },
  {
   "cell_type": "code",
   "execution_count": null,
   "id": "smoking-passion",
   "metadata": {},
   "outputs": [],
   "source": [
    "show_top_n(top_pu, 'PULocationID', df_loc)"
   ]
  },
  {
   "cell_type": "code",
   "execution_count": null,
   "id": "detailed-burning",
   "metadata": {},
   "outputs": [],
   "source": [
    "show_top_n(top_do, 'DOLocationID', df_loc)"
   ]
  },
  {
   "cell_type": "code",
   "execution_count": null,
   "id": "destroyed-kinase",
   "metadata": {},
   "outputs": [],
   "source": []
  },
  {
   "cell_type": "markdown",
   "id": "natural-release",
   "metadata": {},
   "source": [
    "**Visualitzem amb un mapa de calor quines són les zones més recurrents**"
   ]
  },
  {
   "cell_type": "code",
   "execution_count": null,
   "id": "compliant-morning",
   "metadata": {},
   "outputs": [],
   "source": [
    "for year in YEARS:\n",
    "    PUcount = {k:v for k, v in top_do[top_do.year == year][['DOLocationID', 'trip_distance']].values}\n",
    "\n",
    "    fig, ax = plt.subplots(nrows=1, ncols=2, figsize=(12,5))\n",
    "    ax = plt.subplot(1, 2, 1)\n",
    "    ax.set_title(f\"Zones with most pickups - {year}\")\n",
    "    draw_zone_map(ax, sf, shp_dic, heat=PUcount, text=list(PUcount.keys())[:3])\n",
    "    ax = plt.subplot(1, 2, 2)\n",
    "    ax.set_title(f\"Zones with most drop-offs - {year}\")\n",
    "    draw_zone_map(ax, sf, shp_dic, heat=PUcount, text=list(PUcount.keys())[:3])"
   ]
  },
  {
   "cell_type": "markdown",
   "id": "centered-velvet",
   "metadata": {},
   "source": [
    "**Pregunta: Per què creieu que la zona de Manhattan té més quantitat de viatges?**\n",
    "> ANSWER"
   ]
  },
  {
   "cell_type": "code",
   "execution_count": null,
   "id": "married-asthma",
   "metadata": {},
   "outputs": [],
   "source": []
  },
  {
   "cell_type": "markdown",
   "id": "variable-vertex",
   "metadata": {},
   "source": [
    "## 07. Hospitals\n",
    "\n",
    "Com ha canviat la destinació dels viatges? Hi ha més gent que va als hospitals?\n",
    "\n",
    "A la següent cel·la us donem la creació manual d'un DataFrame amb la localització més important dels hospitals de Nova York."
   ]
  },
  {
   "cell_type": "code",
   "execution_count": null,
   "id": "biological-stack",
   "metadata": {},
   "outputs": [],
   "source": [
    "hospitals = [('New York’s Presbyterian Lower Manhattan Hospital, NYC, NY, USA', '40.710255', '-74.005058'),\n",
    "('Manhattan Gastroenterology, NYC, NY, USA', '40.778259', '-73.958092'),\n",
    "('Stem Cell Therapy Hospital, NYC, NY, USA', '40.601517', '-73.961067'),\n",
    "('Park Avenue Smiles, Yonkers, NYC, NY, USA', '40.945873', '-73.890671'),\n",
    "('Cosmetic Dentistry Center, NYC, NY, USA', '40.629234', '-74.026077'),\n",
    "('Envy Smile Dental Spa, Brooklyn, NYC, NY, USA', '40.607059', '-73.960144'),\n",
    "('VIVA EVE, Forest Hills, NYC, NY, USA', '40.734291', '-73.849434'),\n",
    "('Forest Hills Medical Services, Queens, NYC, NY, USA', '40.734310', '-73.849510'),\n",
    "('Professional Gynecological Services, Brooklyn, NY, NY, USA', '40.689747', '-73.982346'),\n",
    "('Manhattan Womens Health & Wellness, New York, NY, USA', '40.741997', '-73.986107'),\n",
    "('Brooklyn Abortion Clinic, Brooklyn, NY, New York, USA', '40.689743', '-73.982368'),\n",
    "('Brooklyn GYN Place, Brooklyn, NY, USA', '40.692696', '-73.993584'),\n",
    "('Americas Holistic Doctor, NYC, NY, USA', '40.742531', '-73.985489'),\n",
    "('NJS Physical Medicine & Rehabilitation, Brooklyn, NY, USA', '40.641621', '-73.956734'),\n",
    "('DHD Medical, Brooklyn New York, USA', '40.625568', '-73.918320'),\n",
    "('Workers Compensation Doctor, New York, NY, USA', '40.652225', '-74.006104'),]\n",
    "\n",
    "hospitals = pd.DataFrame(hospitals, columns = ['Place Name', 'Latitude', 'Longitude'])\n",
    "hospitals['Latitude'] = hospitals['Latitude'].astype(float)\n",
    "hospitals['Longitude'] = hospitals['Longitude'].astype(float)\n",
    "hospitals.head()"
   ]
  },
  {
   "cell_type": "code",
   "execution_count": null,
   "id": "cathedral-secretariat",
   "metadata": {},
   "outputs": [],
   "source": []
  },
  {
   "cell_type": "markdown",
   "id": "guilty-syria",
   "metadata": {},
   "source": [
    "Utilitza la latitud i longitud de cada hospital i la de les zones del dataframe *merge* per veure la distribució dels hospitals.\n",
    "\n",
    "Per fer-ho utilitza els gràfics de dispersió. Recorda que s'entendrà millor si els punts són transparents (paràmetre *alpha*).\n",
    "\n",
    "Després repeteix el mateix gràfic però separat per any. "
   ]
  },
  {
   "cell_type": "code",
   "execution_count": null,
   "id": "naughty-ferry",
   "metadata": {},
   "outputs": [],
   "source": [
    "def scatter_locations(merge, hospitals):\n",
    "    \"\"\"Funció que mostra la distribució dels hospitals i les destinacions dels taxis\"\"\"\n",
    "    # AQUÍ EL TEU CODI\n",
    "    raise NotImplementedError"
   ]
  },
  {
   "cell_type": "code",
   "execution_count": null,
   "id": "played-rachel",
   "metadata": {},
   "outputs": [],
   "source": [
    "scatter_locations(merge, hospitals)"
   ]
  },
  {
   "cell_type": "code",
   "execution_count": null,
   "id": "chinese-georgia",
   "metadata": {},
   "outputs": [],
   "source": [
    "def scatter_locations_per_year(merge, hospitals):\n",
    "    \"\"\"Funció que mostra la distribució dels hospitals i les destinacions dels taxis\"\"\"\n",
    "    # AQUÍ EL TEU CODI\n",
    "    raise NotImplementedError"
   ]
  },
  {
   "cell_type": "code",
   "execution_count": null,
   "id": "sublime-equality",
   "metadata": {},
   "outputs": [],
   "source": [
    "scatter_locations_per_year(merge, hospitals)"
   ]
  },
  {
   "cell_type": "markdown",
   "id": "respected-corruption",
   "metadata": {},
   "source": [
    "**Pregunta: Veus algun comportament?**\n",
    ">ANSWER"
   ]
  },
  {
   "cell_type": "code",
   "execution_count": null,
   "id": "ancient-myanmar",
   "metadata": {},
   "outputs": [],
   "source": []
  },
  {
   "cell_type": "markdown",
   "id": "suspected-citation",
   "metadata": {},
   "source": [
    "Per poder conèixer com ha variat els trajectes als hospitals, primer cal detectar a quina localització del mapa pertany cada hospital.\n",
    "\n",
    "Per fer això cal calcular les distàncies. No calculeu la distància punt a punt, sinó matricialment."
   ]
  },
  {
   "cell_type": "code",
   "execution_count": null,
   "id": "expired-avatar",
   "metadata": {},
   "outputs": [],
   "source": [
    "from scipy.spatial import distance_matrix"
   ]
  },
  {
   "cell_type": "code",
   "execution_count": null,
   "id": "lined-moisture",
   "metadata": {},
   "outputs": [],
   "source": [
    "hospitals_loc = hospitals[['Longitude', 'Latitude']].values\n",
    "loc = df_loc[['longitude', 'latitude']].values\n",
    "\n",
    "\n",
    "# AQUÍ EL TEU CODI    \n",
    "dist = ..."
   ]
  },
  {
   "cell_type": "code",
   "execution_count": null,
   "id": "dirty-surfing",
   "metadata": {},
   "outputs": [],
   "source": [
    "plt.figure(figsize=(20, 5))\n",
    "plt.imshow(dist)"
   ]
  },
  {
   "cell_type": "code",
   "execution_count": null,
   "id": "laughing-funeral",
   "metadata": {},
   "outputs": [],
   "source": []
  },
  {
   "cell_type": "markdown",
   "id": "asian-bicycle",
   "metadata": {},
   "source": [
    "Trobeu la manera de localitzar el sector més proper a partir de les distàncies."
   ]
  },
  {
   "cell_type": "code",
   "execution_count": null,
   "id": "requested-taste",
   "metadata": {},
   "outputs": [],
   "source": [
    "# AQUÍ EL TEU CODI\n",
    "hospitals_locations = ...\n",
    "hospitals['LocationID'] = hospitals_locations"
   ]
  },
  {
   "cell_type": "code",
   "execution_count": null,
   "id": "adolescent-performance",
   "metadata": {},
   "outputs": [],
   "source": [
    "hospitals.head()"
   ]
  },
  {
   "cell_type": "code",
   "execution_count": null,
   "id": "happy-function",
   "metadata": {},
   "outputs": [],
   "source": []
  },
  {
   "cell_type": "markdown",
   "id": "innovative-nevada",
   "metadata": {},
   "source": [
    "Ara que ja tenim en quin sector es troben els hospitals, visualitzeu quants trajectes hi ha relacionats amb ells.\n",
    "\n",
    "Suposarem que tots els trajectes al sector van a l'hospital.\n",
    "\n",
    "Feu una única figura amb dos gràfics de barres on es mostrin la quantitat de viatges per cada any i el % del total dels viatges."
   ]
  },
  {
   "cell_type": "code",
   "execution_count": null,
   "id": "based-conviction",
   "metadata": {},
   "outputs": [],
   "source": [
    "def trips_hospitals(df, hospitals_locations):\n",
    "    \"\"\"\n",
    "    Funció que mostra una única figura amb dos gràfics de barres on es mostrin la quantitat de viatges per cada any i el % del total dels viatges.\n",
    "    \"\"\"\n",
    "    # AQUÍ EL TEU CODI\n",
    "    raise NotImplementedError"
   ]
  },
  {
   "cell_type": "code",
   "execution_count": null,
   "id": "general-council",
   "metadata": {},
   "outputs": [],
   "source": [
    "trips_hospitals(df, hospitals_locations)"
   ]
  },
  {
   "cell_type": "code",
   "execution_count": null,
   "id": "disabled-response",
   "metadata": {},
   "outputs": [],
   "source": []
  },
  {
   "cell_type": "markdown",
   "id": "immediate-scope",
   "metadata": {},
   "source": [
    "## 08. Qui escolta pels forats, sent els seus pecats\n",
    "\n",
    "A la **primera part** heu de visualitzar i comentar els exemples que hem eliminat, com distancies molt llargues, molt curtes...\n",
    "\n",
    "A la **segona part** teniu llibertat per escollir i fer visualitzacions que us aportin informació extra que no s'hagi vist anteriorment."
   ]
  },
  {
   "cell_type": "code",
   "execution_count": null,
   "id": "amazing-wilson",
   "metadata": {},
   "outputs": [],
   "source": []
  },
  {
   "cell_type": "markdown",
   "id": "operating-notebook",
   "metadata": {},
   "source": [
    "## 09. Informe\n",
    "\n",
    "A partir de l'exploració de les dades que heu fet al llarg d'aquest notebook, feu un petit informe resumint i justificant tots els canvis que han sorgit a causa de la covid."
   ]
  },
  {
   "cell_type": "code",
   "execution_count": null,
   "id": "paperback-chess",
   "metadata": {},
   "outputs": [],
   "source": []
  }
 ],
 "metadata": {
  "kernelspec": {
   "display_name": "Python 3.8.8 ('base')",
   "language": "python",
   "name": "python3"
  },
  "language_info": {
   "codemirror_mode": {
    "name": "ipython",
    "version": 3
   },
   "file_extension": ".py",
   "mimetype": "text/x-python",
   "name": "python",
   "nbconvert_exporter": "python",
   "pygments_lexer": "ipython3",
   "version": "3.8.8"
  },
  "vscode": {
   "interpreter": {
    "hash": "33c7fcff9d4c7adae367aa86cab85c2b917e2efbc687bbdbd1968c11a595d583"
   }
  }
 },
 "nbformat": 4,
 "nbformat_minor": 5
}
